{
  "nbformat": 4,
  "nbformat_minor": 0,
  "metadata": {
    "colab": {
      "provenance": [],
      "include_colab_link": true
    },
    "kernelspec": {
      "name": "python3",
      "display_name": "Python 3"
    },
    "language_info": {
      "name": "python"
    }
  },
  "cells": [
    {
      "cell_type": "markdown",
      "metadata": {
        "id": "view-in-github",
        "colab_type": "text"
      },
      "source": [
        "<a href=\"https://colab.research.google.com/github/laurastoleru/DS1002/blob/main/Assignments/07_More_Pandas.ipynb\" target=\"_parent\"><img src=\"https://colab.research.google.com/assets/colab-badge.svg\" alt=\"Open In Colab\"/></a>"
      ]
    },
    {
      "cell_type": "markdown",
      "source": [
        "# More pandas exercises\n",
        "\n",
        "Create a Colab notebook. Complete the tasks as specified in the directions. Run each cell to return the desired output. Save your notebook back to your GitHub repository and submit the GitHub URL for your notebook for review."
      ],
      "metadata": {
        "id": "phbaQTT5gy8A"
      }
    },
    {
      "cell_type": "markdown",
      "source": [
        "1.  Load the following dataset into Colab and perform the requested operations in code.\n",
        "\n",
        " Source: https://ds1002-resources.s3.amazonaws.com/data/ride_sharing.csv"
      ],
      "metadata": {
        "id": "WlPHuSLARJBJ"
      }
    },
    {
      "cell_type": "code",
      "source": [
        "import pandas as pd\n",
        "data = pd.read_csv('https://ds1002-resources.s3.amazonaws.com/data/ride_sharing.csv')"
      ],
      "metadata": {
        "id": "kdFLCHtOg53p"
      },
      "execution_count": 1,
      "outputs": []
    },
    {
      "cell_type": "code",
      "source": [
        "num_rows, num_columns = data.shape\n",
        "num_rows, num_columns"
      ],
      "metadata": {
        "id": "Lfh8suAyhKQW",
        "outputId": "07810784-5580-4082-ebd9-d36b67711b55",
        "colab": {
          "base_uri": "https://localhost:8080/"
        }
      },
      "execution_count": 8,
      "outputs": [
        {
          "output_type": "execute_result",
          "data": {
            "text/plain": [
              "(25760, 10)"
            ]
          },
          "metadata": {},
          "execution_count": 8
        }
      ]
    },
    {
      "cell_type": "code",
      "source": [
        "data['duration'] = data['duration'].astype('int')"
      ],
      "metadata": {
        "id": "KK5-y9nzhMVq"
      },
      "execution_count": 10,
      "outputs": []
    },
    {
      "cell_type": "code",
      "source": [
        "print(data.dtypes)"
      ],
      "metadata": {
        "id": "QyGJUshvhz1J",
        "outputId": "9a4a0566-9163-4ab1-b56b-2190f516895a",
        "colab": {
          "base_uri": "https://localhost:8080/"
        }
      },
      "execution_count": 11,
      "outputs": [
        {
          "output_type": "stream",
          "name": "stdout",
          "text": [
            "duration            int64\n",
            "station_A_id        int64\n",
            "station_A_name     object\n",
            "station_B_id        int64\n",
            "station_B_name     object\n",
            "bike_id             int64\n",
            "user_type           int64\n",
            "user_birth_year     int64\n",
            "user_gender        object\n",
            "tire_size           int64\n",
            "dtype: object\n"
          ]
        }
      ]
    },
    {
      "cell_type": "code",
      "source": [
        "min_duration = data['duration'].min()\n",
        "max_duration = data['duration'].max()\n",
        "print(\"Minimum duration:\", min_duration)\n",
        "print(\"Maximum duration:\", max_duration)"
      ],
      "metadata": {
        "id": "UCA1OswWh5b5",
        "outputId": "59788f66-71a9-49eb-cd77-521487d44218",
        "colab": {
          "base_uri": "https://localhost:8080/"
        }
      },
      "execution_count": 13,
      "outputs": [
        {
          "output_type": "stream",
          "name": "stdout",
          "text": [
            "Minimum duration: 1\n",
            "Maximum duration: 1372\n"
          ]
        }
      ]
    },
    {
      "cell_type": "code",
      "source": [
        "rides_under_60 = data.query('duration <= 60')\n",
        "print(rides_under_60)"
      ],
      "metadata": {
        "id": "K7mStv5kibbA",
        "outputId": "8100484b-5460-41f7-bc49-2050baa34a77",
        "colab": {
          "base_uri": "https://localhost:8080/"
        }
      },
      "execution_count": 14,
      "outputs": [
        {
          "output_type": "stream",
          "name": "stdout",
          "text": [
            "       duration  station_A_id  \\\n",
            "0            12            81   \n",
            "1            24             3   \n",
            "2             8            67   \n",
            "3             4            16   \n",
            "4            11            22   \n",
            "...         ...           ...   \n",
            "25755        11            15   \n",
            "25756        10            15   \n",
            "25757        14            15   \n",
            "25758        14            15   \n",
            "25759        29            16   \n",
            "\n",
            "                                          station_A_name  station_B_id  \\\n",
            "0                                     Berry St at 4th St           323   \n",
            "1           Powell St BART Station (Market St at 4th St)           118   \n",
            "2      San Francisco Caltrain Station 2  (Townsend St...            23   \n",
            "3                                Steuart St at Market St            28   \n",
            "4                                  Howard St at Beale St           350   \n",
            "...                                                  ...           ...   \n",
            "25755  San Francisco Ferry Building (Harry Bridges Pl...            34   \n",
            "25756  San Francisco Ferry Building (Harry Bridges Pl...            34   \n",
            "25757  San Francisco Ferry Building (Harry Bridges Pl...            42   \n",
            "25758  San Francisco Ferry Building (Harry Bridges Pl...            42   \n",
            "25759                            Steuart St at Market St           115   \n",
            "\n",
            "                                      station_B_name  bike_id  user_type  \\\n",
            "0                                 Broadway at Kearny     5480          2   \n",
            "1                    Eureka Valley Recreation Center     5193          2   \n",
            "2                      The Embarcadero at Steuart St     3652          3   \n",
            "3                       The Embarcadero at Bryant St     1883          1   \n",
            "4                               8th St at Brannan St     4626          2   \n",
            "...                                              ...      ...        ...   \n",
            "25755                 Father Alfred E Boeddeker Park     5063          1   \n",
            "25756                 Father Alfred E Boeddeker Park     5411          2   \n",
            "25757  San Francisco City Hall (Polk St at Grove St)     5157          2   \n",
            "25758  San Francisco City Hall (Polk St at Grove St)     4438          2   \n",
            "25759                             Jackson Playground     1705          3   \n",
            "\n",
            "       user_birth_year user_gender  tire_size  \n",
            "0                 1959        Male         26  \n",
            "1                 1965        Male         27  \n",
            "2                 1993        Male         29  \n",
            "3                 1979        Male         26  \n",
            "4                 1994        Male         27  \n",
            "...                ...         ...        ...  \n",
            "25755             2000        Male         26  \n",
            "25756             1998        Male         26  \n",
            "25757             1995        Male         26  \n",
            "25758             1995        Male         27  \n",
            "25759             1990        Male         27  \n",
            "\n",
            "[25544 rows x 10 columns]\n"
          ]
        }
      ]
    },
    {
      "cell_type": "code",
      "source": [
        "new_min_duration = rides_under_60['duration'].min()\n",
        "new_max_duration = rides_under_60['duration'].max()\n",
        "print(\"New minimum duration:\", new_min_duration)\n",
        "print(\"New maximum duration:\", new_max_duration)"
      ],
      "metadata": {
        "id": "v63UdQjNi-w5",
        "outputId": "e5436aa1-2608-4ca2-d3b0-8dc1e43940a0",
        "colab": {
          "base_uri": "https://localhost:8080/"
        }
      },
      "execution_count": 17,
      "outputs": [
        {
          "output_type": "stream",
          "name": "stdout",
          "text": [
            "New minimum duration: 1\n",
            "New maximum duration: 60\n"
          ]
        }
      ]
    },
    {
      "cell_type": "code",
      "source": [
        "rides_under_60 = rides_under_60.query('tire_size == 26')\n",
        "print(rides_under_60)"
      ],
      "metadata": {
        "id": "xTzb_j9rjGk2",
        "outputId": "2ba68440-cd9a-40f2-9e76-036e4ecc35b1",
        "colab": {
          "base_uri": "https://localhost:8080/"
        }
      },
      "execution_count": 18,
      "outputs": [
        {
          "output_type": "stream",
          "name": "stdout",
          "text": [
            "       duration  station_A_id  \\\n",
            "0            12            81   \n",
            "3             4            16   \n",
            "6            16            67   \n",
            "9             5            30   \n",
            "12            7             3   \n",
            "...         ...           ...   \n",
            "25750        15            16   \n",
            "25751        15            16   \n",
            "25755        11            15   \n",
            "25756        10            15   \n",
            "25757        14            15   \n",
            "\n",
            "                                          station_A_name  station_B_id  \\\n",
            "0                                     Berry St at 4th St           323   \n",
            "3                                Steuart St at Market St            28   \n",
            "6      San Francisco Caltrain Station 2  (Townsend St...           107   \n",
            "9         San Francisco Caltrain (Townsend St at 4th St)            62   \n",
            "12          Powell St BART Station (Market St at 4th St)            27   \n",
            "...                                                  ...           ...   \n",
            "25750                            Steuart St at Market St           371   \n",
            "25751                            Steuart St at Market St           371   \n",
            "25755  San Francisco Ferry Building (Harry Bridges Pl...            34   \n",
            "25756  San Francisco Ferry Building (Harry Bridges Pl...            34   \n",
            "25757  San Francisco Ferry Building (Harry Bridges Pl...            42   \n",
            "\n",
            "                                      station_B_name  bike_id  user_type  \\\n",
            "0                                 Broadway at Kearny     5480          2   \n",
            "3                       The Embarcadero at Bryant St     1883          1   \n",
            "6                              17th St at Dolores St     1035          2   \n",
            "9                        Victoria Manalo Draves Park      333          1   \n",
            "12                           Beale St at Harrison St     1863          3   \n",
            "...                                              ...      ...        ...   \n",
            "25750                     Lombard St at Columbus Ave     4372          2   \n",
            "25751                     Lombard St at Columbus Ave     5246          1   \n",
            "25755                 Father Alfred E Boeddeker Park     5063          1   \n",
            "25756                 Father Alfred E Boeddeker Park     5411          2   \n",
            "25757  San Francisco City Hall (Polk St at Grove St)     5157          2   \n",
            "\n",
            "       user_birth_year user_gender  tire_size  \n",
            "0                 1959        Male         26  \n",
            "3                 1979        Male         26  \n",
            "6                 1981        Male         26  \n",
            "9                 1994        Male         26  \n",
            "12                1998        Male         26  \n",
            "...                ...         ...        ...  \n",
            "25750             1994        Male         26  \n",
            "25751             1995        Male         26  \n",
            "25755             2000        Male         26  \n",
            "25756             1998        Male         26  \n",
            "25757             1995        Male         26  \n",
            "\n",
            "[12761 rows x 10 columns]\n"
          ]
        }
      ]
    },
    {
      "cell_type": "code",
      "source": [
        "female_riders = rides_under_60[(rides_under_60['user_gender'] == 'Female') & (rides_under_60['tire_size'] == 26)].shape[0]\n",
        "female_riders"
      ],
      "metadata": {
        "id": "0cwbfj66jrG9",
        "outputId": "8619ee2d-2aa4-40dc-b7e3-115c8cc9806f",
        "colab": {
          "base_uri": "https://localhost:8080/"
        }
      },
      "execution_count": 23,
      "outputs": [
        {
          "output_type": "execute_result",
          "data": {
            "text/plain": [
              "2962"
            ]
          },
          "metadata": {},
          "execution_count": 23
        }
      ]
    },
    {
      "cell_type": "markdown",
      "source": [
        "2. Find the file `more-messy-data.csv` on GitHub and upload it into Google Colab.\n",
        "\n",
        "Create a new Pandas DataFrame from that data and perform the following steps."
      ],
      "metadata": {
        "id": "YIlxzTRQSrl3"
      }
    },
    {
      "cell_type": "code",
      "source": [
        "messydata = pd.read_csv('https://raw.githubusercontent.com/aaron-abrams-uva/DS1002-S24/main/data/more-messy-data.csv')\n",
        "messydata.duplicated()\n",
        "print(messydata.duplicated().sum())"
      ],
      "metadata": {
        "id": "6O1caoy6S82Q",
        "outputId": "694a4fa0-b6ca-4c6d-b867-655d8940a835",
        "colab": {
          "base_uri": "https://localhost:8080/"
        }
      },
      "execution_count": 30,
      "outputs": [
        {
          "output_type": "stream",
          "name": "stdout",
          "text": [
            "287\n"
          ]
        }
      ]
    },
    {
      "cell_type": "code",
      "source": [
        "messydata = messydata.drop_duplicates()"
      ],
      "metadata": {
        "id": "-pDZ2xA-S8vd"
      },
      "execution_count": 31,
      "outputs": []
    },
    {
      "cell_type": "code",
      "source": [
        "updated_columns = ['sepal_length', 'sepal_width', 'petal_length', 'petal_width']\n",
        "messydata[updated_columns] = messydata[updated_columns].fillna(messydata[updated_columns].mean(numeric_only=True))\n",
        "messydata"
      ],
      "metadata": {
        "id": "Quf-P7L4S8oh",
        "outputId": "72e013fb-6642-4915-ce65-7d1e299d7934",
        "colab": {
          "base_uri": "https://localhost:8080/",
          "height": 424
        }
      },
      "execution_count": 39,
      "outputs": [
        {
          "output_type": "execute_result",
          "data": {
            "text/plain": [
              "       id  sepal_length  sepal_width  petal_length petal_width     species\n",
              "0       1      3.500000      2.90000           1.4         0.5   virginica\n",
              "1       2      3.600000      3.20000           3.0         0.5      setosa\n",
              "2       3      3.800000      2.98876           2.2         1.5      setosa\n",
              "3       4      5.800000      2.70000           2.6         1.2   virginica\n",
              "4       5      4.900000      3.60000           3.0         1.2   virginica\n",
              "...   ...           ...          ...           ...         ...         ...\n",
              "1311  412      4.522004      3.60000           2.9         0.5  Versicolor\n",
              "1312  413      5.800000      2.70000           2.0         0.1  Versicolor\n",
              "1313  414      3.300000      3.70000           1.3         2.8  Versicolor\n",
              "1314  415      3.100000      2.98876           1.1         NaN  Versicolor\n",
              "1315  416      4.300000      2.50000           1.3           1  Versicolor\n",
              "\n",
              "[1029 rows x 6 columns]"
            ],
            "text/html": [
              "\n",
              "  <div id=\"df-6d8080f2-c579-4000-a1ca-3648ae361e0f\" class=\"colab-df-container\">\n",
              "    <div>\n",
              "<style scoped>\n",
              "    .dataframe tbody tr th:only-of-type {\n",
              "        vertical-align: middle;\n",
              "    }\n",
              "\n",
              "    .dataframe tbody tr th {\n",
              "        vertical-align: top;\n",
              "    }\n",
              "\n",
              "    .dataframe thead th {\n",
              "        text-align: right;\n",
              "    }\n",
              "</style>\n",
              "<table border=\"1\" class=\"dataframe\">\n",
              "  <thead>\n",
              "    <tr style=\"text-align: right;\">\n",
              "      <th></th>\n",
              "      <th>id</th>\n",
              "      <th>sepal_length</th>\n",
              "      <th>sepal_width</th>\n",
              "      <th>petal_length</th>\n",
              "      <th>petal_width</th>\n",
              "      <th>species</th>\n",
              "    </tr>\n",
              "  </thead>\n",
              "  <tbody>\n",
              "    <tr>\n",
              "      <th>0</th>\n",
              "      <td>1</td>\n",
              "      <td>3.500000</td>\n",
              "      <td>2.90000</td>\n",
              "      <td>1.4</td>\n",
              "      <td>0.5</td>\n",
              "      <td>virginica</td>\n",
              "    </tr>\n",
              "    <tr>\n",
              "      <th>1</th>\n",
              "      <td>2</td>\n",
              "      <td>3.600000</td>\n",
              "      <td>3.20000</td>\n",
              "      <td>3.0</td>\n",
              "      <td>0.5</td>\n",
              "      <td>setosa</td>\n",
              "    </tr>\n",
              "    <tr>\n",
              "      <th>2</th>\n",
              "      <td>3</td>\n",
              "      <td>3.800000</td>\n",
              "      <td>2.98876</td>\n",
              "      <td>2.2</td>\n",
              "      <td>1.5</td>\n",
              "      <td>setosa</td>\n",
              "    </tr>\n",
              "    <tr>\n",
              "      <th>3</th>\n",
              "      <td>4</td>\n",
              "      <td>5.800000</td>\n",
              "      <td>2.70000</td>\n",
              "      <td>2.6</td>\n",
              "      <td>1.2</td>\n",
              "      <td>virginica</td>\n",
              "    </tr>\n",
              "    <tr>\n",
              "      <th>4</th>\n",
              "      <td>5</td>\n",
              "      <td>4.900000</td>\n",
              "      <td>3.60000</td>\n",
              "      <td>3.0</td>\n",
              "      <td>1.2</td>\n",
              "      <td>virginica</td>\n",
              "    </tr>\n",
              "    <tr>\n",
              "      <th>...</th>\n",
              "      <td>...</td>\n",
              "      <td>...</td>\n",
              "      <td>...</td>\n",
              "      <td>...</td>\n",
              "      <td>...</td>\n",
              "      <td>...</td>\n",
              "    </tr>\n",
              "    <tr>\n",
              "      <th>1311</th>\n",
              "      <td>412</td>\n",
              "      <td>4.522004</td>\n",
              "      <td>3.60000</td>\n",
              "      <td>2.9</td>\n",
              "      <td>0.5</td>\n",
              "      <td>Versicolor</td>\n",
              "    </tr>\n",
              "    <tr>\n",
              "      <th>1312</th>\n",
              "      <td>413</td>\n",
              "      <td>5.800000</td>\n",
              "      <td>2.70000</td>\n",
              "      <td>2.0</td>\n",
              "      <td>0.1</td>\n",
              "      <td>Versicolor</td>\n",
              "    </tr>\n",
              "    <tr>\n",
              "      <th>1313</th>\n",
              "      <td>414</td>\n",
              "      <td>3.300000</td>\n",
              "      <td>3.70000</td>\n",
              "      <td>1.3</td>\n",
              "      <td>2.8</td>\n",
              "      <td>Versicolor</td>\n",
              "    </tr>\n",
              "    <tr>\n",
              "      <th>1314</th>\n",
              "      <td>415</td>\n",
              "      <td>3.100000</td>\n",
              "      <td>2.98876</td>\n",
              "      <td>1.1</td>\n",
              "      <td>NaN</td>\n",
              "      <td>Versicolor</td>\n",
              "    </tr>\n",
              "    <tr>\n",
              "      <th>1315</th>\n",
              "      <td>416</td>\n",
              "      <td>4.300000</td>\n",
              "      <td>2.50000</td>\n",
              "      <td>1.3</td>\n",
              "      <td>1</td>\n",
              "      <td>Versicolor</td>\n",
              "    </tr>\n",
              "  </tbody>\n",
              "</table>\n",
              "<p>1029 rows × 6 columns</p>\n",
              "</div>\n",
              "    <div class=\"colab-df-buttons\">\n",
              "\n",
              "  <div class=\"colab-df-container\">\n",
              "    <button class=\"colab-df-convert\" onclick=\"convertToInteractive('df-6d8080f2-c579-4000-a1ca-3648ae361e0f')\"\n",
              "            title=\"Convert this dataframe to an interactive table.\"\n",
              "            style=\"display:none;\">\n",
              "\n",
              "  <svg xmlns=\"http://www.w3.org/2000/svg\" height=\"24px\" viewBox=\"0 -960 960 960\">\n",
              "    <path d=\"M120-120v-720h720v720H120Zm60-500h600v-160H180v160Zm220 220h160v-160H400v160Zm0 220h160v-160H400v160ZM180-400h160v-160H180v160Zm440 0h160v-160H620v160ZM180-180h160v-160H180v160Zm440 0h160v-160H620v160Z\"/>\n",
              "  </svg>\n",
              "    </button>\n",
              "\n",
              "  <style>\n",
              "    .colab-df-container {\n",
              "      display:flex;\n",
              "      gap: 12px;\n",
              "    }\n",
              "\n",
              "    .colab-df-convert {\n",
              "      background-color: #E8F0FE;\n",
              "      border: none;\n",
              "      border-radius: 50%;\n",
              "      cursor: pointer;\n",
              "      display: none;\n",
              "      fill: #1967D2;\n",
              "      height: 32px;\n",
              "      padding: 0 0 0 0;\n",
              "      width: 32px;\n",
              "    }\n",
              "\n",
              "    .colab-df-convert:hover {\n",
              "      background-color: #E2EBFA;\n",
              "      box-shadow: 0px 1px 2px rgba(60, 64, 67, 0.3), 0px 1px 3px 1px rgba(60, 64, 67, 0.15);\n",
              "      fill: #174EA6;\n",
              "    }\n",
              "\n",
              "    .colab-df-buttons div {\n",
              "      margin-bottom: 4px;\n",
              "    }\n",
              "\n",
              "    [theme=dark] .colab-df-convert {\n",
              "      background-color: #3B4455;\n",
              "      fill: #D2E3FC;\n",
              "    }\n",
              "\n",
              "    [theme=dark] .colab-df-convert:hover {\n",
              "      background-color: #434B5C;\n",
              "      box-shadow: 0px 1px 3px 1px rgba(0, 0, 0, 0.15);\n",
              "      filter: drop-shadow(0px 1px 2px rgba(0, 0, 0, 0.3));\n",
              "      fill: #FFFFFF;\n",
              "    }\n",
              "  </style>\n",
              "\n",
              "    <script>\n",
              "      const buttonEl =\n",
              "        document.querySelector('#df-6d8080f2-c579-4000-a1ca-3648ae361e0f button.colab-df-convert');\n",
              "      buttonEl.style.display =\n",
              "        google.colab.kernel.accessAllowed ? 'block' : 'none';\n",
              "\n",
              "      async function convertToInteractive(key) {\n",
              "        const element = document.querySelector('#df-6d8080f2-c579-4000-a1ca-3648ae361e0f');\n",
              "        const dataTable =\n",
              "          await google.colab.kernel.invokeFunction('convertToInteractive',\n",
              "                                                    [key], {});\n",
              "        if (!dataTable) return;\n",
              "\n",
              "        const docLinkHtml = 'Like what you see? Visit the ' +\n",
              "          '<a target=\"_blank\" href=https://colab.research.google.com/notebooks/data_table.ipynb>data table notebook</a>'\n",
              "          + ' to learn more about interactive tables.';\n",
              "        element.innerHTML = '';\n",
              "        dataTable['output_type'] = 'display_data';\n",
              "        await google.colab.output.renderOutput(dataTable, element);\n",
              "        const docLink = document.createElement('div');\n",
              "        docLink.innerHTML = docLinkHtml;\n",
              "        element.appendChild(docLink);\n",
              "      }\n",
              "    </script>\n",
              "  </div>\n",
              "\n",
              "\n",
              "<div id=\"df-a55aff9c-8449-48cf-8112-52d5cafdc82c\">\n",
              "  <button class=\"colab-df-quickchart\" onclick=\"quickchart('df-a55aff9c-8449-48cf-8112-52d5cafdc82c')\"\n",
              "            title=\"Suggest charts\"\n",
              "            style=\"display:none;\">\n",
              "\n",
              "<svg xmlns=\"http://www.w3.org/2000/svg\" height=\"24px\"viewBox=\"0 0 24 24\"\n",
              "     width=\"24px\">\n",
              "    <g>\n",
              "        <path d=\"M19 3H5c-1.1 0-2 .9-2 2v14c0 1.1.9 2 2 2h14c1.1 0 2-.9 2-2V5c0-1.1-.9-2-2-2zM9 17H7v-7h2v7zm4 0h-2V7h2v10zm4 0h-2v-4h2v4z\"/>\n",
              "    </g>\n",
              "</svg>\n",
              "  </button>\n",
              "\n",
              "<style>\n",
              "  .colab-df-quickchart {\n",
              "      --bg-color: #E8F0FE;\n",
              "      --fill-color: #1967D2;\n",
              "      --hover-bg-color: #E2EBFA;\n",
              "      --hover-fill-color: #174EA6;\n",
              "      --disabled-fill-color: #AAA;\n",
              "      --disabled-bg-color: #DDD;\n",
              "  }\n",
              "\n",
              "  [theme=dark] .colab-df-quickchart {\n",
              "      --bg-color: #3B4455;\n",
              "      --fill-color: #D2E3FC;\n",
              "      --hover-bg-color: #434B5C;\n",
              "      --hover-fill-color: #FFFFFF;\n",
              "      --disabled-bg-color: #3B4455;\n",
              "      --disabled-fill-color: #666;\n",
              "  }\n",
              "\n",
              "  .colab-df-quickchart {\n",
              "    background-color: var(--bg-color);\n",
              "    border: none;\n",
              "    border-radius: 50%;\n",
              "    cursor: pointer;\n",
              "    display: none;\n",
              "    fill: var(--fill-color);\n",
              "    height: 32px;\n",
              "    padding: 0;\n",
              "    width: 32px;\n",
              "  }\n",
              "\n",
              "  .colab-df-quickchart:hover {\n",
              "    background-color: var(--hover-bg-color);\n",
              "    box-shadow: 0 1px 2px rgba(60, 64, 67, 0.3), 0 1px 3px 1px rgba(60, 64, 67, 0.15);\n",
              "    fill: var(--button-hover-fill-color);\n",
              "  }\n",
              "\n",
              "  .colab-df-quickchart-complete:disabled,\n",
              "  .colab-df-quickchart-complete:disabled:hover {\n",
              "    background-color: var(--disabled-bg-color);\n",
              "    fill: var(--disabled-fill-color);\n",
              "    box-shadow: none;\n",
              "  }\n",
              "\n",
              "  .colab-df-spinner {\n",
              "    border: 2px solid var(--fill-color);\n",
              "    border-color: transparent;\n",
              "    border-bottom-color: var(--fill-color);\n",
              "    animation:\n",
              "      spin 1s steps(1) infinite;\n",
              "  }\n",
              "\n",
              "  @keyframes spin {\n",
              "    0% {\n",
              "      border-color: transparent;\n",
              "      border-bottom-color: var(--fill-color);\n",
              "      border-left-color: var(--fill-color);\n",
              "    }\n",
              "    20% {\n",
              "      border-color: transparent;\n",
              "      border-left-color: var(--fill-color);\n",
              "      border-top-color: var(--fill-color);\n",
              "    }\n",
              "    30% {\n",
              "      border-color: transparent;\n",
              "      border-left-color: var(--fill-color);\n",
              "      border-top-color: var(--fill-color);\n",
              "      border-right-color: var(--fill-color);\n",
              "    }\n",
              "    40% {\n",
              "      border-color: transparent;\n",
              "      border-right-color: var(--fill-color);\n",
              "      border-top-color: var(--fill-color);\n",
              "    }\n",
              "    60% {\n",
              "      border-color: transparent;\n",
              "      border-right-color: var(--fill-color);\n",
              "    }\n",
              "    80% {\n",
              "      border-color: transparent;\n",
              "      border-right-color: var(--fill-color);\n",
              "      border-bottom-color: var(--fill-color);\n",
              "    }\n",
              "    90% {\n",
              "      border-color: transparent;\n",
              "      border-bottom-color: var(--fill-color);\n",
              "    }\n",
              "  }\n",
              "</style>\n",
              "\n",
              "  <script>\n",
              "    async function quickchart(key) {\n",
              "      const quickchartButtonEl =\n",
              "        document.querySelector('#' + key + ' button');\n",
              "      quickchartButtonEl.disabled = true;  // To prevent multiple clicks.\n",
              "      quickchartButtonEl.classList.add('colab-df-spinner');\n",
              "      try {\n",
              "        const charts = await google.colab.kernel.invokeFunction(\n",
              "            'suggestCharts', [key], {});\n",
              "      } catch (error) {\n",
              "        console.error('Error during call to suggestCharts:', error);\n",
              "      }\n",
              "      quickchartButtonEl.classList.remove('colab-df-spinner');\n",
              "      quickchartButtonEl.classList.add('colab-df-quickchart-complete');\n",
              "    }\n",
              "    (() => {\n",
              "      let quickchartButtonEl =\n",
              "        document.querySelector('#df-a55aff9c-8449-48cf-8112-52d5cafdc82c button');\n",
              "      quickchartButtonEl.style.display =\n",
              "        google.colab.kernel.accessAllowed ? 'block' : 'none';\n",
              "    })();\n",
              "  </script>\n",
              "</div>\n",
              "\n",
              "  <div id=\"id_c7acdf38-49d1-4cd6-be43-bb2fad39cded\">\n",
              "    <style>\n",
              "      .colab-df-generate {\n",
              "        background-color: #E8F0FE;\n",
              "        border: none;\n",
              "        border-radius: 50%;\n",
              "        cursor: pointer;\n",
              "        display: none;\n",
              "        fill: #1967D2;\n",
              "        height: 32px;\n",
              "        padding: 0 0 0 0;\n",
              "        width: 32px;\n",
              "      }\n",
              "\n",
              "      .colab-df-generate:hover {\n",
              "        background-color: #E2EBFA;\n",
              "        box-shadow: 0px 1px 2px rgba(60, 64, 67, 0.3), 0px 1px 3px 1px rgba(60, 64, 67, 0.15);\n",
              "        fill: #174EA6;\n",
              "      }\n",
              "\n",
              "      [theme=dark] .colab-df-generate {\n",
              "        background-color: #3B4455;\n",
              "        fill: #D2E3FC;\n",
              "      }\n",
              "\n",
              "      [theme=dark] .colab-df-generate:hover {\n",
              "        background-color: #434B5C;\n",
              "        box-shadow: 0px 1px 3px 1px rgba(0, 0, 0, 0.15);\n",
              "        filter: drop-shadow(0px 1px 2px rgba(0, 0, 0, 0.3));\n",
              "        fill: #FFFFFF;\n",
              "      }\n",
              "    </style>\n",
              "    <button class=\"colab-df-generate\" onclick=\"generateWithVariable('messydata')\"\n",
              "            title=\"Generate code using this dataframe.\"\n",
              "            style=\"display:none;\">\n",
              "\n",
              "  <svg xmlns=\"http://www.w3.org/2000/svg\" height=\"24px\"viewBox=\"0 0 24 24\"\n",
              "       width=\"24px\">\n",
              "    <path d=\"M7,19H8.4L18.45,9,17,7.55,7,17.6ZM5,21V16.75L18.45,3.32a2,2,0,0,1,2.83,0l1.4,1.43a1.91,1.91,0,0,1,.58,1.4,1.91,1.91,0,0,1-.58,1.4L9.25,21ZM18.45,9,17,7.55Zm-12,3A5.31,5.31,0,0,0,4.9,8.1,5.31,5.31,0,0,0,1,6.5,5.31,5.31,0,0,0,4.9,4.9,5.31,5.31,0,0,0,6.5,1,5.31,5.31,0,0,0,8.1,4.9,5.31,5.31,0,0,0,12,6.5,5.46,5.46,0,0,0,6.5,12Z\"/>\n",
              "  </svg>\n",
              "    </button>\n",
              "    <script>\n",
              "      (() => {\n",
              "      const buttonEl =\n",
              "        document.querySelector('#id_c7acdf38-49d1-4cd6-be43-bb2fad39cded button.colab-df-generate');\n",
              "      buttonEl.style.display =\n",
              "        google.colab.kernel.accessAllowed ? 'block' : 'none';\n",
              "\n",
              "      buttonEl.onclick = () => {\n",
              "        google.colab.notebook.generateWithVariable('messydata');\n",
              "      }\n",
              "      })();\n",
              "    </script>\n",
              "  </div>\n",
              "\n",
              "    </div>\n",
              "  </div>\n"
            ],
            "application/vnd.google.colaboratory.intrinsic+json": {
              "type": "dataframe",
              "variable_name": "messydata",
              "summary": "{\n  \"name\": \"messydata\",\n  \"rows\": 1029,\n  \"fields\": [\n    {\n      \"column\": \"id\",\n      \"properties\": {\n        \"dtype\": \"number\",\n        \"std\": 288,\n        \"min\": 1,\n        \"max\": 1000,\n        \"num_unique_values\": 1000,\n        \"samples\": [\n          522,\n          738,\n          741\n        ],\n        \"semantic_type\": \"\",\n        \"description\": \"\"\n      }\n    },\n    {\n      \"column\": \"sepal_length\",\n      \"properties\": {\n        \"dtype\": \"number\",\n        \"std\": 0.827977066910808,\n        \"min\": 3.0,\n        \"max\": 6.0,\n        \"num_unique_values\": 32,\n        \"samples\": [\n          4.2,\n          3.1,\n          5.3\n        ],\n        \"semantic_type\": \"\",\n        \"description\": \"\"\n      }\n    },\n    {\n      \"column\": \"sepal_width\",\n      \"properties\": {\n        \"dtype\": \"number\",\n        \"std\": 0.5278074586194315,\n        \"min\": 2.0,\n        \"max\": 4.0,\n        \"num_unique_values\": 22,\n        \"samples\": [\n          2.9,\n          2.4,\n          2.1\n        ],\n        \"semantic_type\": \"\",\n        \"description\": \"\"\n      }\n    },\n    {\n      \"column\": \"petal_length\",\n      \"properties\": {\n        \"dtype\": \"number\",\n        \"std\": 0.5496799429101692,\n        \"min\": 1.0,\n        \"max\": 3.0,\n        \"num_unique_values\": 22,\n        \"samples\": [\n          1.4,\n          2.5,\n          2.9\n        ],\n        \"semantic_type\": \"\",\n        \"description\": \"\"\n      }\n    },\n    {\n      \"column\": \"petal_width\",\n      \"properties\": {\n        \"dtype\": \"category\",\n        \"num_unique_values\": 33,\n        \"samples\": [\n          \"0\",\n          \"gg29\",\n          \"0.8\"\n        ],\n        \"semantic_type\": \"\",\n        \"description\": \"\"\n      }\n    },\n    {\n      \"column\": \"species\",\n      \"properties\": {\n        \"dtype\": \"category\",\n        \"num_unique_values\": 10,\n        \"samples\": [\n          \"Setosan\",\n          \"setosa\",\n          \"Virginia\"\n        ],\n        \"semantic_type\": \"\",\n        \"description\": \"\"\n      }\n    }\n  ]\n}"
            }
          },
          "metadata": {},
          "execution_count": 39
        }
      ]
    },
    {
      "cell_type": "code",
      "source": [
        "messydata_drop_all = messydata.dropna()\n",
        "messydata_drop_all"
      ],
      "metadata": {
        "id": "en_ReYsAS8f-",
        "outputId": "e6b9d2da-2353-4cdf-d74e-128984c0b27a",
        "colab": {
          "base_uri": "https://localhost:8080/",
          "height": 424
        }
      },
      "execution_count": 40,
      "outputs": [
        {
          "output_type": "execute_result",
          "data": {
            "text/plain": [
              "       id  sepal_length  sepal_width  petal_length petal_width     species\n",
              "0       1      3.500000      2.90000           1.4         0.5   virginica\n",
              "1       2      3.600000      3.20000           3.0         0.5      setosa\n",
              "2       3      3.800000      2.98876           2.2         1.5      setosa\n",
              "3       4      5.800000      2.70000           2.6         1.2   virginica\n",
              "4       5      4.900000      3.60000           3.0         1.2   virginica\n",
              "...   ...           ...          ...           ...         ...         ...\n",
              "1310  411      4.800000      2.60000           1.9         0.9  Versicolor\n",
              "1311  412      4.522004      3.60000           2.9         0.5  Versicolor\n",
              "1312  413      5.800000      2.70000           2.0         0.1  Versicolor\n",
              "1313  414      3.300000      3.70000           1.3         2.8  Versicolor\n",
              "1315  416      4.300000      2.50000           1.3           1  Versicolor\n",
              "\n",
              "[887 rows x 6 columns]"
            ],
            "text/html": [
              "\n",
              "  <div id=\"df-dc10c452-77a7-4361-ac60-a3cdb56a139d\" class=\"colab-df-container\">\n",
              "    <div>\n",
              "<style scoped>\n",
              "    .dataframe tbody tr th:only-of-type {\n",
              "        vertical-align: middle;\n",
              "    }\n",
              "\n",
              "    .dataframe tbody tr th {\n",
              "        vertical-align: top;\n",
              "    }\n",
              "\n",
              "    .dataframe thead th {\n",
              "        text-align: right;\n",
              "    }\n",
              "</style>\n",
              "<table border=\"1\" class=\"dataframe\">\n",
              "  <thead>\n",
              "    <tr style=\"text-align: right;\">\n",
              "      <th></th>\n",
              "      <th>id</th>\n",
              "      <th>sepal_length</th>\n",
              "      <th>sepal_width</th>\n",
              "      <th>petal_length</th>\n",
              "      <th>petal_width</th>\n",
              "      <th>species</th>\n",
              "    </tr>\n",
              "  </thead>\n",
              "  <tbody>\n",
              "    <tr>\n",
              "      <th>0</th>\n",
              "      <td>1</td>\n",
              "      <td>3.500000</td>\n",
              "      <td>2.90000</td>\n",
              "      <td>1.4</td>\n",
              "      <td>0.5</td>\n",
              "      <td>virginica</td>\n",
              "    </tr>\n",
              "    <tr>\n",
              "      <th>1</th>\n",
              "      <td>2</td>\n",
              "      <td>3.600000</td>\n",
              "      <td>3.20000</td>\n",
              "      <td>3.0</td>\n",
              "      <td>0.5</td>\n",
              "      <td>setosa</td>\n",
              "    </tr>\n",
              "    <tr>\n",
              "      <th>2</th>\n",
              "      <td>3</td>\n",
              "      <td>3.800000</td>\n",
              "      <td>2.98876</td>\n",
              "      <td>2.2</td>\n",
              "      <td>1.5</td>\n",
              "      <td>setosa</td>\n",
              "    </tr>\n",
              "    <tr>\n",
              "      <th>3</th>\n",
              "      <td>4</td>\n",
              "      <td>5.800000</td>\n",
              "      <td>2.70000</td>\n",
              "      <td>2.6</td>\n",
              "      <td>1.2</td>\n",
              "      <td>virginica</td>\n",
              "    </tr>\n",
              "    <tr>\n",
              "      <th>4</th>\n",
              "      <td>5</td>\n",
              "      <td>4.900000</td>\n",
              "      <td>3.60000</td>\n",
              "      <td>3.0</td>\n",
              "      <td>1.2</td>\n",
              "      <td>virginica</td>\n",
              "    </tr>\n",
              "    <tr>\n",
              "      <th>...</th>\n",
              "      <td>...</td>\n",
              "      <td>...</td>\n",
              "      <td>...</td>\n",
              "      <td>...</td>\n",
              "      <td>...</td>\n",
              "      <td>...</td>\n",
              "    </tr>\n",
              "    <tr>\n",
              "      <th>1310</th>\n",
              "      <td>411</td>\n",
              "      <td>4.800000</td>\n",
              "      <td>2.60000</td>\n",
              "      <td>1.9</td>\n",
              "      <td>0.9</td>\n",
              "      <td>Versicolor</td>\n",
              "    </tr>\n",
              "    <tr>\n",
              "      <th>1311</th>\n",
              "      <td>412</td>\n",
              "      <td>4.522004</td>\n",
              "      <td>3.60000</td>\n",
              "      <td>2.9</td>\n",
              "      <td>0.5</td>\n",
              "      <td>Versicolor</td>\n",
              "    </tr>\n",
              "    <tr>\n",
              "      <th>1312</th>\n",
              "      <td>413</td>\n",
              "      <td>5.800000</td>\n",
              "      <td>2.70000</td>\n",
              "      <td>2.0</td>\n",
              "      <td>0.1</td>\n",
              "      <td>Versicolor</td>\n",
              "    </tr>\n",
              "    <tr>\n",
              "      <th>1313</th>\n",
              "      <td>414</td>\n",
              "      <td>3.300000</td>\n",
              "      <td>3.70000</td>\n",
              "      <td>1.3</td>\n",
              "      <td>2.8</td>\n",
              "      <td>Versicolor</td>\n",
              "    </tr>\n",
              "    <tr>\n",
              "      <th>1315</th>\n",
              "      <td>416</td>\n",
              "      <td>4.300000</td>\n",
              "      <td>2.50000</td>\n",
              "      <td>1.3</td>\n",
              "      <td>1</td>\n",
              "      <td>Versicolor</td>\n",
              "    </tr>\n",
              "  </tbody>\n",
              "</table>\n",
              "<p>887 rows × 6 columns</p>\n",
              "</div>\n",
              "    <div class=\"colab-df-buttons\">\n",
              "\n",
              "  <div class=\"colab-df-container\">\n",
              "    <button class=\"colab-df-convert\" onclick=\"convertToInteractive('df-dc10c452-77a7-4361-ac60-a3cdb56a139d')\"\n",
              "            title=\"Convert this dataframe to an interactive table.\"\n",
              "            style=\"display:none;\">\n",
              "\n",
              "  <svg xmlns=\"http://www.w3.org/2000/svg\" height=\"24px\" viewBox=\"0 -960 960 960\">\n",
              "    <path d=\"M120-120v-720h720v720H120Zm60-500h600v-160H180v160Zm220 220h160v-160H400v160Zm0 220h160v-160H400v160ZM180-400h160v-160H180v160Zm440 0h160v-160H620v160ZM180-180h160v-160H180v160Zm440 0h160v-160H620v160Z\"/>\n",
              "  </svg>\n",
              "    </button>\n",
              "\n",
              "  <style>\n",
              "    .colab-df-container {\n",
              "      display:flex;\n",
              "      gap: 12px;\n",
              "    }\n",
              "\n",
              "    .colab-df-convert {\n",
              "      background-color: #E8F0FE;\n",
              "      border: none;\n",
              "      border-radius: 50%;\n",
              "      cursor: pointer;\n",
              "      display: none;\n",
              "      fill: #1967D2;\n",
              "      height: 32px;\n",
              "      padding: 0 0 0 0;\n",
              "      width: 32px;\n",
              "    }\n",
              "\n",
              "    .colab-df-convert:hover {\n",
              "      background-color: #E2EBFA;\n",
              "      box-shadow: 0px 1px 2px rgba(60, 64, 67, 0.3), 0px 1px 3px 1px rgba(60, 64, 67, 0.15);\n",
              "      fill: #174EA6;\n",
              "    }\n",
              "\n",
              "    .colab-df-buttons div {\n",
              "      margin-bottom: 4px;\n",
              "    }\n",
              "\n",
              "    [theme=dark] .colab-df-convert {\n",
              "      background-color: #3B4455;\n",
              "      fill: #D2E3FC;\n",
              "    }\n",
              "\n",
              "    [theme=dark] .colab-df-convert:hover {\n",
              "      background-color: #434B5C;\n",
              "      box-shadow: 0px 1px 3px 1px rgba(0, 0, 0, 0.15);\n",
              "      filter: drop-shadow(0px 1px 2px rgba(0, 0, 0, 0.3));\n",
              "      fill: #FFFFFF;\n",
              "    }\n",
              "  </style>\n",
              "\n",
              "    <script>\n",
              "      const buttonEl =\n",
              "        document.querySelector('#df-dc10c452-77a7-4361-ac60-a3cdb56a139d button.colab-df-convert');\n",
              "      buttonEl.style.display =\n",
              "        google.colab.kernel.accessAllowed ? 'block' : 'none';\n",
              "\n",
              "      async function convertToInteractive(key) {\n",
              "        const element = document.querySelector('#df-dc10c452-77a7-4361-ac60-a3cdb56a139d');\n",
              "        const dataTable =\n",
              "          await google.colab.kernel.invokeFunction('convertToInteractive',\n",
              "                                                    [key], {});\n",
              "        if (!dataTable) return;\n",
              "\n",
              "        const docLinkHtml = 'Like what you see? Visit the ' +\n",
              "          '<a target=\"_blank\" href=https://colab.research.google.com/notebooks/data_table.ipynb>data table notebook</a>'\n",
              "          + ' to learn more about interactive tables.';\n",
              "        element.innerHTML = '';\n",
              "        dataTable['output_type'] = 'display_data';\n",
              "        await google.colab.output.renderOutput(dataTable, element);\n",
              "        const docLink = document.createElement('div');\n",
              "        docLink.innerHTML = docLinkHtml;\n",
              "        element.appendChild(docLink);\n",
              "      }\n",
              "    </script>\n",
              "  </div>\n",
              "\n",
              "\n",
              "<div id=\"df-03a7210f-92df-4714-a856-2edcb70d2ee7\">\n",
              "  <button class=\"colab-df-quickchart\" onclick=\"quickchart('df-03a7210f-92df-4714-a856-2edcb70d2ee7')\"\n",
              "            title=\"Suggest charts\"\n",
              "            style=\"display:none;\">\n",
              "\n",
              "<svg xmlns=\"http://www.w3.org/2000/svg\" height=\"24px\"viewBox=\"0 0 24 24\"\n",
              "     width=\"24px\">\n",
              "    <g>\n",
              "        <path d=\"M19 3H5c-1.1 0-2 .9-2 2v14c0 1.1.9 2 2 2h14c1.1 0 2-.9 2-2V5c0-1.1-.9-2-2-2zM9 17H7v-7h2v7zm4 0h-2V7h2v10zm4 0h-2v-4h2v4z\"/>\n",
              "    </g>\n",
              "</svg>\n",
              "  </button>\n",
              "\n",
              "<style>\n",
              "  .colab-df-quickchart {\n",
              "      --bg-color: #E8F0FE;\n",
              "      --fill-color: #1967D2;\n",
              "      --hover-bg-color: #E2EBFA;\n",
              "      --hover-fill-color: #174EA6;\n",
              "      --disabled-fill-color: #AAA;\n",
              "      --disabled-bg-color: #DDD;\n",
              "  }\n",
              "\n",
              "  [theme=dark] .colab-df-quickchart {\n",
              "      --bg-color: #3B4455;\n",
              "      --fill-color: #D2E3FC;\n",
              "      --hover-bg-color: #434B5C;\n",
              "      --hover-fill-color: #FFFFFF;\n",
              "      --disabled-bg-color: #3B4455;\n",
              "      --disabled-fill-color: #666;\n",
              "  }\n",
              "\n",
              "  .colab-df-quickchart {\n",
              "    background-color: var(--bg-color);\n",
              "    border: none;\n",
              "    border-radius: 50%;\n",
              "    cursor: pointer;\n",
              "    display: none;\n",
              "    fill: var(--fill-color);\n",
              "    height: 32px;\n",
              "    padding: 0;\n",
              "    width: 32px;\n",
              "  }\n",
              "\n",
              "  .colab-df-quickchart:hover {\n",
              "    background-color: var(--hover-bg-color);\n",
              "    box-shadow: 0 1px 2px rgba(60, 64, 67, 0.3), 0 1px 3px 1px rgba(60, 64, 67, 0.15);\n",
              "    fill: var(--button-hover-fill-color);\n",
              "  }\n",
              "\n",
              "  .colab-df-quickchart-complete:disabled,\n",
              "  .colab-df-quickchart-complete:disabled:hover {\n",
              "    background-color: var(--disabled-bg-color);\n",
              "    fill: var(--disabled-fill-color);\n",
              "    box-shadow: none;\n",
              "  }\n",
              "\n",
              "  .colab-df-spinner {\n",
              "    border: 2px solid var(--fill-color);\n",
              "    border-color: transparent;\n",
              "    border-bottom-color: var(--fill-color);\n",
              "    animation:\n",
              "      spin 1s steps(1) infinite;\n",
              "  }\n",
              "\n",
              "  @keyframes spin {\n",
              "    0% {\n",
              "      border-color: transparent;\n",
              "      border-bottom-color: var(--fill-color);\n",
              "      border-left-color: var(--fill-color);\n",
              "    }\n",
              "    20% {\n",
              "      border-color: transparent;\n",
              "      border-left-color: var(--fill-color);\n",
              "      border-top-color: var(--fill-color);\n",
              "    }\n",
              "    30% {\n",
              "      border-color: transparent;\n",
              "      border-left-color: var(--fill-color);\n",
              "      border-top-color: var(--fill-color);\n",
              "      border-right-color: var(--fill-color);\n",
              "    }\n",
              "    40% {\n",
              "      border-color: transparent;\n",
              "      border-right-color: var(--fill-color);\n",
              "      border-top-color: var(--fill-color);\n",
              "    }\n",
              "    60% {\n",
              "      border-color: transparent;\n",
              "      border-right-color: var(--fill-color);\n",
              "    }\n",
              "    80% {\n",
              "      border-color: transparent;\n",
              "      border-right-color: var(--fill-color);\n",
              "      border-bottom-color: var(--fill-color);\n",
              "    }\n",
              "    90% {\n",
              "      border-color: transparent;\n",
              "      border-bottom-color: var(--fill-color);\n",
              "    }\n",
              "  }\n",
              "</style>\n",
              "\n",
              "  <script>\n",
              "    async function quickchart(key) {\n",
              "      const quickchartButtonEl =\n",
              "        document.querySelector('#' + key + ' button');\n",
              "      quickchartButtonEl.disabled = true;  // To prevent multiple clicks.\n",
              "      quickchartButtonEl.classList.add('colab-df-spinner');\n",
              "      try {\n",
              "        const charts = await google.colab.kernel.invokeFunction(\n",
              "            'suggestCharts', [key], {});\n",
              "      } catch (error) {\n",
              "        console.error('Error during call to suggestCharts:', error);\n",
              "      }\n",
              "      quickchartButtonEl.classList.remove('colab-df-spinner');\n",
              "      quickchartButtonEl.classList.add('colab-df-quickchart-complete');\n",
              "    }\n",
              "    (() => {\n",
              "      let quickchartButtonEl =\n",
              "        document.querySelector('#df-03a7210f-92df-4714-a856-2edcb70d2ee7 button');\n",
              "      quickchartButtonEl.style.display =\n",
              "        google.colab.kernel.accessAllowed ? 'block' : 'none';\n",
              "    })();\n",
              "  </script>\n",
              "</div>\n",
              "\n",
              "  <div id=\"id_b2ee44e3-8642-4ee7-99d7-c7677e6b7d90\">\n",
              "    <style>\n",
              "      .colab-df-generate {\n",
              "        background-color: #E8F0FE;\n",
              "        border: none;\n",
              "        border-radius: 50%;\n",
              "        cursor: pointer;\n",
              "        display: none;\n",
              "        fill: #1967D2;\n",
              "        height: 32px;\n",
              "        padding: 0 0 0 0;\n",
              "        width: 32px;\n",
              "      }\n",
              "\n",
              "      .colab-df-generate:hover {\n",
              "        background-color: #E2EBFA;\n",
              "        box-shadow: 0px 1px 2px rgba(60, 64, 67, 0.3), 0px 1px 3px 1px rgba(60, 64, 67, 0.15);\n",
              "        fill: #174EA6;\n",
              "      }\n",
              "\n",
              "      [theme=dark] .colab-df-generate {\n",
              "        background-color: #3B4455;\n",
              "        fill: #D2E3FC;\n",
              "      }\n",
              "\n",
              "      [theme=dark] .colab-df-generate:hover {\n",
              "        background-color: #434B5C;\n",
              "        box-shadow: 0px 1px 3px 1px rgba(0, 0, 0, 0.15);\n",
              "        filter: drop-shadow(0px 1px 2px rgba(0, 0, 0, 0.3));\n",
              "        fill: #FFFFFF;\n",
              "      }\n",
              "    </style>\n",
              "    <button class=\"colab-df-generate\" onclick=\"generateWithVariable('messydata_drop_all')\"\n",
              "            title=\"Generate code using this dataframe.\"\n",
              "            style=\"display:none;\">\n",
              "\n",
              "  <svg xmlns=\"http://www.w3.org/2000/svg\" height=\"24px\"viewBox=\"0 0 24 24\"\n",
              "       width=\"24px\">\n",
              "    <path d=\"M7,19H8.4L18.45,9,17,7.55,7,17.6ZM5,21V16.75L18.45,3.32a2,2,0,0,1,2.83,0l1.4,1.43a1.91,1.91,0,0,1,.58,1.4,1.91,1.91,0,0,1-.58,1.4L9.25,21ZM18.45,9,17,7.55Zm-12,3A5.31,5.31,0,0,0,4.9,8.1,5.31,5.31,0,0,0,1,6.5,5.31,5.31,0,0,0,4.9,4.9,5.31,5.31,0,0,0,6.5,1,5.31,5.31,0,0,0,8.1,4.9,5.31,5.31,0,0,0,12,6.5,5.46,5.46,0,0,0,6.5,12Z\"/>\n",
              "  </svg>\n",
              "    </button>\n",
              "    <script>\n",
              "      (() => {\n",
              "      const buttonEl =\n",
              "        document.querySelector('#id_b2ee44e3-8642-4ee7-99d7-c7677e6b7d90 button.colab-df-generate');\n",
              "      buttonEl.style.display =\n",
              "        google.colab.kernel.accessAllowed ? 'block' : 'none';\n",
              "\n",
              "      buttonEl.onclick = () => {\n",
              "        google.colab.notebook.generateWithVariable('messydata_drop_all');\n",
              "      }\n",
              "      })();\n",
              "    </script>\n",
              "  </div>\n",
              "\n",
              "    </div>\n",
              "  </div>\n"
            ],
            "application/vnd.google.colaboratory.intrinsic+json": {
              "type": "dataframe",
              "variable_name": "messydata_drop_all",
              "summary": "{\n  \"name\": \"messydata_drop_all\",\n  \"rows\": 887,\n  \"fields\": [\n    {\n      \"column\": \"id\",\n      \"properties\": {\n        \"dtype\": \"number\",\n        \"std\": 288,\n        \"min\": 1,\n        \"max\": 1000,\n        \"num_unique_values\": 862,\n        \"samples\": [\n          830,\n          705,\n          137\n        ],\n        \"semantic_type\": \"\",\n        \"description\": \"\"\n      }\n    },\n    {\n      \"column\": \"sepal_length\",\n      \"properties\": {\n        \"dtype\": \"number\",\n        \"std\": 0.8191395008116473,\n        \"min\": 3.0,\n        \"max\": 6.0,\n        \"num_unique_values\": 32,\n        \"samples\": [\n          5.9,\n          3.1,\n          5.2\n        ],\n        \"semantic_type\": \"\",\n        \"description\": \"\"\n      }\n    },\n    {\n      \"column\": \"sepal_width\",\n      \"properties\": {\n        \"dtype\": \"number\",\n        \"std\": 0.5264752981153817,\n        \"min\": 2.0,\n        \"max\": 4.0,\n        \"num_unique_values\": 22,\n        \"samples\": [\n          2.9,\n          2.4,\n          2.1\n        ],\n        \"semantic_type\": \"\",\n        \"description\": \"\"\n      }\n    },\n    {\n      \"column\": \"petal_length\",\n      \"properties\": {\n        \"dtype\": \"number\",\n        \"std\": 0.5475892240942173,\n        \"min\": 1.0,\n        \"max\": 3.0,\n        \"num_unique_values\": 22,\n        \"samples\": [\n          1.4,\n          2.5,\n          2.9\n        ],\n        \"semantic_type\": \"\",\n        \"description\": \"\"\n      }\n    },\n    {\n      \"column\": \"petal_width\",\n      \"properties\": {\n        \"dtype\": \"category\",\n        \"num_unique_values\": 33,\n        \"samples\": [\n          \"0\",\n          \"gg29\",\n          \"0.8\"\n        ],\n        \"semantic_type\": \"\",\n        \"description\": \"\"\n      }\n    },\n    {\n      \"column\": \"species\",\n      \"properties\": {\n        \"dtype\": \"category\",\n        \"num_unique_values\": 9,\n        \"samples\": [\n          \"Setosan\",\n          \"setosa\",\n          \"Virginia\"\n        ],\n        \"semantic_type\": \"\",\n        \"description\": \"\"\n      }\n    }\n  ]\n}"
            }
          },
          "metadata": {},
          "execution_count": 40
        }
      ]
    },
    {
      "cell_type": "code",
      "source": [
        "number_of_species = messydata_drop_all['species'].nunique()\n",
        "number_of_species"
      ],
      "metadata": {
        "id": "uqV9IHwDS75a",
        "outputId": "0d3d6090-afca-424c-bce5-a066821dfb26",
        "colab": {
          "base_uri": "https://localhost:8080/"
        }
      },
      "execution_count": 47,
      "outputs": [
        {
          "output_type": "execute_result",
          "data": {
            "text/plain": [
              "9"
            ]
          },
          "metadata": {},
          "execution_count": 47
        }
      ]
    },
    {
      "cell_type": "code",
      "source": [
        "messydata_drop_all['species'].unique()"
      ],
      "metadata": {
        "id": "G2j8HDgYT52P",
        "outputId": "4b154d5c-3735-4153-c2b7-4a46cbff57b9",
        "colab": {
          "base_uri": "https://localhost:8080/"
        }
      },
      "execution_count": 48,
      "outputs": [
        {
          "output_type": "execute_result",
          "data": {
            "text/plain": [
              "array(['virginica', 'setosa', 'Versicolor', 'setoso', 'Viginica',\n",
              "       'Virginia', 'Setosa', 'Setosan', 'versicolor'], dtype=object)"
            ]
          },
          "metadata": {},
          "execution_count": 48
        }
      ]
    },
    {
      "cell_type": "code",
      "source": [
        "messydata_drop_all.loc[messydata_drop_all['species'] == 'setosa', 'species'] = 'Setosa'\n",
        "messydata_drop_all.loc[messydata_drop_all['species'] == 'setoso', 'species'] = 'Setosa'\n",
        "messydata_drop_all.loc[messydata_drop_all['species'] == 'Setosa', 'species'] = 'Setosa'\n",
        "messydata_drop_all.loc[messydata_drop_all['species'] == 'Setosan', 'species'] = 'Setosa'\n",
        "messydata_drop_all.loc[messydata_drop_all['species'] == 'virginica', 'species'] = 'Virginica'\n",
        "messydata_drop_all.loc[messydata_drop_all['species'] == 'Viginica', 'species'] = 'Virginica'\n",
        "messydata_drop_all.loc[messydata_drop_all['species'] == 'Virginia', 'species'] = 'Virginica'\n",
        "messydata_drop_all.loc[messydata_drop_all['species'] == 'Iris-virginica', 'species'] = 'Virginica'\n",
        "messydata_drop_all.loc[messydata_drop_all['species'] == 'Iris-versicolor', 'species'] = 'Versicolor'\n",
        "messydata_drop_all.loc[messydata_drop_all['species'] == 'versicolor', 'species'] = 'Versicolor'\n",
        "print(\"Number of unique species after cleanup:\", messydata_drop_all['species'].unique())"
      ],
      "metadata": {
        "id": "BnLd2u6tsmVn",
        "outputId": "82177024-441e-4b4c-8f70-25211d2a691e",
        "colab": {
          "base_uri": "https://localhost:8080/"
        }
      },
      "execution_count": 55,
      "outputs": [
        {
          "output_type": "stream",
          "name": "stdout",
          "text": [
            "Number of unique species after cleanup: ['Virginica' 'Setosa' 'Versicolor']\n"
          ]
        }
      ]
    },
    {
      "cell_type": "markdown",
      "source": [
        "3. Bonus:  Regular expressions"
      ],
      "metadata": {
        "id": "CsMBqFDmX7Ax"
      }
    },
    {
      "cell_type": "markdown",
      "source": [
        "My expression is [A-Z]{3}\\d{4}$.\n",
        "A-Z clarifies that the letters must be uppercase from A to Z.\n",
        "{3} clarifies that [A-Z] should occur 3 times (there should be 3 uppercase letters).\n",
        "/d is for any number that is 1 digit long.\n",
        "{4} clarifies that there should be 4 digits.\n",
        "\n",
        "I researched and found out that $ must be placed at the end of expression in order to clarify that all the steps of the pattern that I wrote must be fully correct in order to be a match."
      ],
      "metadata": {
        "id": "Q_bq4bg9vGb0"
      }
    },
    {
      "cell_type": "code",
      "source": [
        "import re\n",
        "exp = r'^[A-Z]{3}\\d{4}$'\n",
        "test = 'ABC1234'\n",
        "\n",
        "if re.match(exp,test):\n",
        "  print(\"match!\")\n",
        "else:\n",
        "  print(\"no match\")\n",
        "\n",
        "print(type(re.match(exp,test)))\n",
        "print(bool(re.match(exp,test)))"
      ],
      "metadata": {
        "id": "LKbpBAxJZnXp",
        "outputId": "1689144d-3890-4f91-f91e-f673b126c324",
        "colab": {
          "base_uri": "https://localhost:8080/"
        }
      },
      "execution_count": 57,
      "outputs": [
        {
          "output_type": "stream",
          "name": "stdout",
          "text": [
            "match!\n",
            "<class 're.Match'>\n",
            "True\n"
          ]
        }
      ]
    },
    {
      "cell_type": "code",
      "source": [
        "import re\n",
        "exp = r'^[A-Z]{3}\\d{4}$'\n",
        "test = 'AB184'\n",
        "\n",
        "if re.match(exp,test):\n",
        "  print(\"match!\")\n",
        "else:\n",
        "  print(\"no match\")\n",
        "\n",
        "print(type(re.match(exp,test)))\n",
        "print(bool(re.match(exp,test)))"
      ],
      "metadata": {
        "id": "RVh-FrEQu5rM",
        "outputId": "ddc513c5-3a4c-4f8e-a211-9542ce634e57",
        "colab": {
          "base_uri": "https://localhost:8080/"
        }
      },
      "execution_count": 58,
      "outputs": [
        {
          "output_type": "stream",
          "name": "stdout",
          "text": [
            "no match\n",
            "<class 'NoneType'>\n",
            "False\n"
          ]
        }
      ]
    },
    {
      "cell_type": "code",
      "source": [
        "import re\n",
        "exp = r'^[A-Z]{3}\\d{4}$'\n",
        "test = 'aBC1234'\n",
        "\n",
        "if re.match(exp,test):\n",
        "  print(\"match!\")\n",
        "else:\n",
        "  print(\"no match\")\n",
        "\n",
        "print(type(re.match(exp,test)))\n",
        "print(bool(re.match(exp,test)))"
      ],
      "metadata": {
        "id": "cerMZ-hSu8I9",
        "outputId": "13365291-8c1d-43c8-90c0-bac7ca49706c",
        "colab": {
          "base_uri": "https://localhost:8080/"
        }
      },
      "execution_count": 59,
      "outputs": [
        {
          "output_type": "stream",
          "name": "stdout",
          "text": [
            "no match\n",
            "<class 'NoneType'>\n",
            "False\n"
          ]
        }
      ]
    },
    {
      "cell_type": "code",
      "source": [
        "import re\n",
        "exp = r'^[A-Z]{3}\\d{4}$'\n",
        "test = 'hello'\n",
        "\n",
        "if re.match(exp,test):\n",
        "  print(\"match!\")\n",
        "else:\n",
        "  print(\"no match\")\n",
        "\n",
        "print(type(re.match(exp,test)))\n",
        "print(bool(re.match(exp,test)))"
      ],
      "metadata": {
        "id": "LKlPJorEvB5c",
        "outputId": "61921fa9-1928-4007-816a-23f5d2c975a6",
        "colab": {
          "base_uri": "https://localhost:8080/"
        }
      },
      "execution_count": 60,
      "outputs": [
        {
          "output_type": "stream",
          "name": "stdout",
          "text": [
            "no match\n",
            "<class 'NoneType'>\n",
            "False\n"
          ]
        }
      ]
    }
  ]
}