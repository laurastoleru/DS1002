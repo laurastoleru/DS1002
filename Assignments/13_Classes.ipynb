{
  "nbformat": 4,
  "nbformat_minor": 0,
  "metadata": {
    "colab": {
      "provenance": [],
      "include_colab_link": true
    },
    "kernelspec": {
      "name": "python3",
      "display_name": "Python 3"
    },
    "language_info": {
      "name": "python"
    }
  },
  "cells": [
    {
      "cell_type": "markdown",
      "metadata": {
        "id": "view-in-github",
        "colab_type": "text"
      },
      "source": [
        "<a href=\"https://colab.research.google.com/github/laurastoleru/DS1002/blob/main/Assignments/13_Classes.ipynb\" target=\"_parent\"><img src=\"https://colab.research.google.com/assets/colab-badge.svg\" alt=\"Open In Colab\"/></a>"
      ]
    },
    {
      "cell_type": "markdown",
      "source": [
        "## Assignment:  Classes\n",
        "### Due Sunday 28 April at 10pm"
      ],
      "metadata": {
        "id": "5Vy93BSp9Tum"
      }
    },
    {
      "cell_type": "markdown",
      "source": [
        "1.  Define a class called `Person` that has attributes `lastName`, `firstName`, `mother`, and `father`.  Both `mother` and `father` should have default value `unknown`.\n",
        "\n",
        "  Include a `__str__()` function that returns a string of the form '`firstName` `lastName`'.\n",
        "\n",
        "  Include a `__repr__()` function that returns a string that can be evaluated to recreate the `Person` object.\n",
        "\n"
      ],
      "metadata": {
        "id": "vcj5XQAI9Wsb"
      }
    },
    {
      "cell_type": "code",
      "source": [
        "class Person:\n",
        "  def __init__(self, lastName, firstName, mother=\"unknown\", father=\"unknown\"):\n",
        "    self.lastName = lastName\n",
        "    self.firstName = firstName\n",
        "    self.mother = mother\n",
        "    self.father = father\n",
        "\n",
        "  def __str__(self):\n",
        "    return f\"{self.firstName} {self.lastName}\"\n",
        "\n",
        "  def __repr__(self):\n",
        "    return f\"Person('{self.lastName}', '{self.firstName}', '{self.mother}', '{self.father}')\""
      ],
      "metadata": {
        "id": "mjHDwHv3EpVe"
      },
      "execution_count": 1,
      "outputs": []
    },
    {
      "cell_type": "markdown",
      "source": [
        "Create a person (i.e., a `Person` object) called `p` with unknown parents.  (You will need to give your person a first and last name.) Check the type of `p`.  Include all inputs and outputs."
      ],
      "metadata": {
        "id": "-ppMsEIVHINl"
      }
    },
    {
      "cell_type": "code",
      "source": [
        "class Person:\n",
        "    def __init__(self, first_name, last_name, mother=None, father=None):\n",
        "        self.first_name = first_name\n",
        "        self.last_name = last_name\n",
        "        self.mother = mother\n",
        "        self.father = father\n",
        "p = Person(\"Jack\", \"Doe\")\n",
        "print(type(p))"
      ],
      "metadata": {
        "id": "5bwid_6gHIBH",
        "outputId": "8907a7eb-c750-42db-c4b8-7f074d0fe6ff",
        "colab": {
          "base_uri": "https://localhost:8080/"
        }
      },
      "execution_count": 6,
      "outputs": [
        {
          "output_type": "stream",
          "name": "stdout",
          "text": [
            "<class '__main__.Person'>\n"
          ]
        }
      ]
    },
    {
      "cell_type": "markdown",
      "source": [
        "Verify that your `__str__` and `__repr__` functions are doing what they are supposed to do.  Include all inputs and outputs."
      ],
      "metadata": {
        "id": "Z6zlUC3xRtal"
      }
    },
    {
      "cell_type": "code",
      "source": [
        "class Person:\n",
        "    def __init__(self, first_name, last_name, mother=None, father=None):\n",
        "        self.first_name = first_name\n",
        "        self.last_name = last_name\n",
        "        self.mother = mother\n",
        "        self.father = father\n",
        "\n",
        "    def __str__(self):\n",
        "        return f\"{self.first_name} {self.last_name}\"\n",
        "\n",
        "    def __repr__(self):\n",
        "        return f\"Person('{self.first_name}', '{self.last_name}', mother={self.mother}, father={self.father})\"\n",
        "\n",
        "p = Person(\"Jack\", \"Doe\")\n",
        "\n",
        "print(str(p))\n",
        "print(repr(p))"
      ],
      "metadata": {
        "id": "jZO0dBQYRs-K",
        "outputId": "2859fc47-b129-4f25-8849-fcd7ba1e505d",
        "colab": {
          "base_uri": "https://localhost:8080/"
        }
      },
      "execution_count": 7,
      "outputs": [
        {
          "output_type": "stream",
          "name": "stdout",
          "text": [
            "Jack Doe\n",
            "Person('Jack', 'Doe', mother=None, father=None)\n"
          ]
        }
      ]
    },
    {
      "cell_type": "markdown",
      "source": [
        "Suppose the mother of `p` has been found and is named Taylor Swift.  Create a new person named Taylor Swift, and make her the mother of `p`:\n",
        "\n",
        "```\n",
        "> p.mother\n",
        "'Taylor Swift'\n",
        "```"
      ],
      "metadata": {
        "id": "1mOAThQiHzoQ"
      }
    },
    {
      "cell_type": "code",
      "source": [
        "taylorswift = Person(\"Taylor\", \"Swift\")\n",
        "p.mother = taylorswift"
      ],
      "metadata": {
        "id": "NYbDOorpHymz"
      },
      "execution_count": 11,
      "outputs": []
    },
    {
      "cell_type": "markdown",
      "source": [
        "2.  Add some methods to your class.  Start by copying the `class` definition you already wrote.  Then, inside the `class` definition:\n",
        "\n",
        "  (a) Write a method called `unknownParent()` which returns `True` if any parent is 'unknown' and `False` otherwise.\n",
        "\n",
        "  (b) Write a method called `maternalGrandmother()` which returns the mother's mother.  If the mother is unknown, it should return 'unknown'.\n",
        "\n"
      ],
      "metadata": {
        "id": "1g1pcrmFHzGh"
      }
    },
    {
      "cell_type": "code",
      "source": [
        "class Person:\n",
        "    def __init__(self, name, mother, father):\n",
        "        self.name = name\n",
        "        self.mother = mother\n",
        "        self.father = father\n",
        "\n",
        "    def unknownParent(self):\n",
        "        return 'unknown' in [self.father, self.mother]\n",
        "\n",
        "    def maternalGrandmother(self):\n",
        "        if self.mother == 'unknown':\n",
        "            return 'unknown'\n",
        "        else:\n",
        "            return self.mother.mother"
      ],
      "metadata": {
        "id": "7mIxJGwwKTpv"
      },
      "execution_count": 13,
      "outputs": []
    },
    {
      "cell_type": "markdown",
      "source": [
        "Create enough `Person` objects to test whether your methods are working properly.  Show all your inputs and outputs.  It is up to you to demonstrate that you have thoroughly tested the code.  You may use additional code and/or text chunks if it helps."
      ],
      "metadata": {
        "id": "l9-4gxd8FxAQ"
      }
    },
    {
      "cell_type": "code",
      "source": [
        "class Person:\n",
        "    def __init__(self, first_name, last_name, mother=None, father=None):\n",
        "        self.first_name = first_name\n",
        "        self.last_name = last_name\n",
        "        self.mother = mother\n",
        "        self.father = father\n",
        "\n",
        "    def __str__(self):\n",
        "        return f\"{self.first_name} {self.last_name}\"\n",
        "\n",
        "    def __repr__(self):\n",
        "        return f\"Person('{self.first_name}', '{self.last_name}', mother={self.mother}, father={self.father})\"\n",
        "\n",
        "mother = Person(\"Jill\", \"Doe\")\n",
        "father = Person(\"Jack\", \"Doe\")\n",
        "kid1 = Person(\"Ella\", \"Doe\", mother=mother, father=father)\n",
        "kid2 = Person(\"Bob\", \"Doe\", mother=mother, father=father)\n",
        "kid3 = Person(\"Emma\", \"Doe\", mother=mother, father=father)"
      ],
      "metadata": {
        "id": "ECa2D3bI2jD1"
      },
      "execution_count": 20,
      "outputs": []
    },
    {
      "cell_type": "code",
      "source": [
        "print(\"With __str__:\")\n",
        "print(str(mother))\n",
        "print(str(father))\n",
        "print(str(kid1))\n",
        "print(str(kid2))\n",
        "print(str(kid3))\n",
        "\n",
        "print(\"With __repr__:\")\n",
        "print(repr(mother))\n",
        "print(repr(father))\n",
        "print(repr(kid1))\n",
        "print(repr(kid2))\n",
        "print(repr(kid3))"
      ],
      "metadata": {
        "id": "hBMs2NiR1lYM",
        "outputId": "da2782c3-2577-46f3-d82b-72d0871ca5a3",
        "colab": {
          "base_uri": "https://localhost:8080/"
        }
      },
      "execution_count": 21,
      "outputs": [
        {
          "output_type": "stream",
          "name": "stdout",
          "text": [
            "With __str__:\n",
            "Jill Doe\n",
            "Jack Doe\n",
            "Ella Doe\n",
            "Bob Doe\n",
            "Emma Doe\n",
            "With __repr__:\n",
            "Person('Jill', 'Doe', mother=None, father=None)\n",
            "Person('Jack', 'Doe', mother=None, father=None)\n",
            "Person('Ella', 'Doe', mother=Jill Doe, father=Jack Doe)\n",
            "Person('Bob', 'Doe', mother=Jill Doe, father=Jack Doe)\n",
            "Person('Emma', 'Doe', mother=Jill Doe, father=Jack Doe)\n"
          ]
        }
      ]
    }
  ]
}