{
  "nbformat": 4,
  "nbformat_minor": 0,
  "metadata": {
    "colab": {
      "provenance": [],
      "authorship_tag": "ABX9TyM1hdpwMB3KCAn8o4waWAUL",
      "include_colab_link": true
    },
    "kernelspec": {
      "name": "python3",
      "display_name": "Python 3"
    },
    "language_info": {
      "name": "python"
    }
  },
  "cells": [
    {
      "cell_type": "markdown",
      "metadata": {
        "id": "view-in-github",
        "colab_type": "text"
      },
      "source": [
        "<a href=\"https://colab.research.google.com/github/laurastoleru/DS1002/blob/main/feb28hww.ipynb\" target=\"_parent\"><img src=\"https://colab.research.google.com/assets/colab-badge.svg\" alt=\"Open In Colab\"/></a>"
      ]
    },
    {
      "cell_type": "code",
      "execution_count": 1,
      "metadata": {
        "colab": {
          "base_uri": "https://localhost:8080/"
        },
        "id": "j7p8BUbBSUIb",
        "outputId": "bee3b523-3451-4a2c-8ca6-56c45716b164"
      },
      "outputs": [
        {
          "output_type": "stream",
          "name": "stdout",
          "text": [
            "Collecting english_words\n",
            "  Downloading english-words-2.0.1.tar.gz (8.2 MB)\n",
            "\u001b[2K     \u001b[90m━━━━━━━━━━━━━━━━━━━━━━━━━━━━━━━━━━━━━━━━\u001b[0m \u001b[32m8.2/8.2 MB\u001b[0m \u001b[31m22.7 MB/s\u001b[0m eta \u001b[36m0:00:00\u001b[0m\n",
            "\u001b[?25h  Installing build dependencies ... \u001b[?25l\u001b[?25hdone\n",
            "  Getting requirements to build wheel ... \u001b[?25l\u001b[?25hdone\n",
            "  Preparing metadata (pyproject.toml) ... \u001b[?25l\u001b[?25hdone\n",
            "Building wheels for collected packages: english_words\n",
            "  Building wheel for english_words (pyproject.toml) ... \u001b[?25l\u001b[?25hdone\n",
            "  Created wheel for english_words: filename=english_words-2.0.1-py3-none-any.whl size=8196238 sha256=a270135ea01993ebfe7fba9326f4510ce1b9439a68367a81597c8e8aafa24b73\n",
            "  Stored in directory: /root/.cache/pip/wheels/f0/e6/d9/16a123647999fe535f03a36e7af23eef203736d84c7ca25b0b\n",
            "Successfully built english_words\n",
            "Installing collected packages: english_words\n",
            "Successfully installed english_words-2.0.1\n"
          ]
        }
      ],
      "source": [
        "!pip install english_words\n",
        "from english_words import get_english_words_set\n",
        "words = get_english_words_set(['web2'], lower=True)"
      ]
    },
    {
      "cell_type": "markdown",
      "source": [
        "1. The variable 'words' is a set. Below I have converted it to a list called wordlist. The length of wordlist is 234450."
      ],
      "metadata": {
        "id": "vIMwB6INZi8h"
      }
    },
    {
      "cell_type": "code",
      "source": [
        "type(words)"
      ],
      "metadata": {
        "colab": {
          "base_uri": "https://localhost:8080/"
        },
        "id": "yqzrjAHqZYMl",
        "outputId": "ebb0482f-5ed4-45e5-c951-8e7d54108753"
      },
      "execution_count": 2,
      "outputs": [
        {
          "output_type": "execute_result",
          "data": {
            "text/plain": [
              "set"
            ]
          },
          "metadata": {},
          "execution_count": 2
        }
      ]
    },
    {
      "cell_type": "code",
      "source": [
        "wordlist= list(words)\n",
        "len(wordlist)"
      ],
      "metadata": {
        "colab": {
          "base_uri": "https://localhost:8080/"
        },
        "id": "Lx7bMZG8Z5k3",
        "outputId": "a66defc0-667e-4a93-dd95-6449516e23d0"
      },
      "execution_count": 3,
      "outputs": [
        {
          "output_type": "execute_result",
          "data": {
            "text/plain": [
              "234450"
            ]
          },
          "metadata": {},
          "execution_count": 3
        }
      ]
    },
    {
      "cell_type": "markdown",
      "source": [
        "2. I notice that all of the words are different and start with different, however some of the lengths of the words are the same. The words are also not in alphabetical order."
      ],
      "metadata": {
        "id": "lTBFi4pbaAqW"
      }
    },
    {
      "cell_type": "code",
      "source": [
        "wordlist[:10]"
      ],
      "metadata": {
        "colab": {
          "base_uri": "https://localhost:8080/"
        },
        "id": "ecF82tnWaLo1",
        "outputId": "9b5d9e65-cb10-4ba6-9877-f312863d83f6"
      },
      "execution_count": 4,
      "outputs": [
        {
          "output_type": "execute_result",
          "data": {
            "text/plain": [
              "['colcine',\n",
              " 'unsquired',\n",
              " 'pestalozzianism',\n",
              " 'ophthalmotonometer',\n",
              " 'palaeopathology',\n",
              " 'vibraphone',\n",
              " 'kollaster',\n",
              " 'anoestrus',\n",
              " 'renewer',\n",
              " 'protandrous']"
            ]
          },
          "metadata": {},
          "execution_count": 4
        }
      ]
    },
    {
      "cell_type": "markdown",
      "source": [
        "3. Below I have made alpha_list and printed out the first 10 words:"
      ],
      "metadata": {
        "id": "iRVAEEgbbXn3"
      }
    },
    {
      "cell_type": "code",
      "source": [
        "alpha_list = sorted(wordlist)\n",
        "alpha_list[:10]"
      ],
      "metadata": {
        "colab": {
          "base_uri": "https://localhost:8080/"
        },
        "id": "A6QyDwocbd1w",
        "outputId": "f1160e2d-f9cd-4255-ab15-ebdacc50c797"
      },
      "execution_count": 5,
      "outputs": [
        {
          "output_type": "execute_result",
          "data": {
            "text/plain": [
              "['a',\n",
              " 'aa',\n",
              " 'aal',\n",
              " 'aalii',\n",
              " 'aam',\n",
              " 'aani',\n",
              " 'aardvark',\n",
              " 'aardwolf',\n",
              " 'aaron',\n",
              " 'aaronic']"
            ]
          },
          "metadata": {},
          "execution_count": 5
        }
      ]
    },
    {
      "cell_type": "markdown",
      "source": [
        "4. There are 16982 words that start with a."
      ],
      "metadata": {
        "id": "Rp6ywUCCbqVd"
      }
    },
    {
      "cell_type": "code",
      "source": [
        "words_that_start_witha = sum(1 for word in alpha_list if word.startswith('a'))\n",
        "words_that_start_witha"
      ],
      "metadata": {
        "colab": {
          "base_uri": "https://localhost:8080/"
        },
        "id": "oxpE4zjHbtu7",
        "outputId": "c83a4232-e450-4f11-bbce-2441c7b703f0"
      },
      "execution_count": 6,
      "outputs": [
        {
          "output_type": "execute_result",
          "data": {
            "text/plain": [
              "16982"
            ]
          },
          "metadata": {},
          "execution_count": 6
        }
      ]
    },
    {
      "cell_type": "markdown",
      "source": [
        "5. There are 3624 words with q in them. The fraction of words without an e is 0.32828321603753463."
      ],
      "metadata": {
        "id": "vZoGMF-2cKTI"
      }
    },
    {
      "cell_type": "code",
      "source": [
        "words_withq = sum(1 for word in alpha_list if 'q' in word)\n",
        "words_withq"
      ],
      "metadata": {
        "colab": {
          "base_uri": "https://localhost:8080/"
        },
        "id": "iwgDfeu-cOl2",
        "outputId": "6d7f9056-3cd8-42a1-cce0-7b6b53720320"
      },
      "execution_count": 7,
      "outputs": [
        {
          "output_type": "execute_result",
          "data": {
            "text/plain": [
              "3624"
            ]
          },
          "metadata": {},
          "execution_count": 7
        }
      ]
    },
    {
      "cell_type": "code",
      "source": [
        "words_withoute = sum(1 for word in alpha_list if 'e' not in word)\n",
        "fraction_words_withoute = words_withoute / len(alpha_list)\n",
        "fraction_words_withoute"
      ],
      "metadata": {
        "colab": {
          "base_uri": "https://localhost:8080/"
        },
        "id": "qEpFLXkVcdeE",
        "outputId": "e113466b-c968-4075-9d13-c14128c9a36d"
      },
      "execution_count": 8,
      "outputs": [
        {
          "output_type": "execute_result",
          "data": {
            "text/plain": [
              "0.32828321603753463"
            ]
          },
          "metadata": {},
          "execution_count": 8
        }
      ]
    },
    {
      "cell_type": "markdown",
      "source": [
        "6. This code prints out every letter of the alphabet in a list form that is alphabetical."
      ],
      "metadata": {
        "id": "3Kj9VTWHdNrS"
      }
    },
    {
      "cell_type": "code",
      "source": [
        "import numpy as np\n",
        "\n",
        "wordlist_np = np.array(wordlist)\n",
        "alpha_list_np = np.array(alpha_list)\n",
        "alphabet = [chr(i) for i in range(ord('a'), ord('z') + 1)]\n",
        "alphabet"
      ],
      "metadata": {
        "colab": {
          "base_uri": "https://localhost:8080/"
        },
        "id": "PCWXtxO9da-I",
        "outputId": "ff37d671-7f07-4087-a545-33720b857ea3"
      },
      "execution_count": 10,
      "outputs": [
        {
          "output_type": "execute_result",
          "data": {
            "text/plain": [
              "['a',\n",
              " 'b',\n",
              " 'c',\n",
              " 'd',\n",
              " 'e',\n",
              " 'f',\n",
              " 'g',\n",
              " 'h',\n",
              " 'i',\n",
              " 'j',\n",
              " 'k',\n",
              " 'l',\n",
              " 'm',\n",
              " 'n',\n",
              " 'o',\n",
              " 'p',\n",
              " 'q',\n",
              " 'r',\n",
              " 's',\n",
              " 't',\n",
              " 'u',\n",
              " 'v',\n",
              " 'w',\n",
              " 'x',\n",
              " 'y',\n",
              " 'z']"
            ]
          },
          "metadata": {},
          "execution_count": 10
        }
      ]
    },
    {
      "cell_type": "markdown",
      "source": [
        "7. Bar graph below:"
      ],
      "metadata": {
        "id": "W-Kx4o36d0jO"
      }
    },
    {
      "cell_type": "code",
      "source": [
        "import matplotlib.pyplot as plt\n",
        "\n",
        "words_with_each_letter = {letter: sum(1 for word in alpha_list if word.startswith(letter)) for letter in alphabet}\n",
        "\n",
        "plt.bar(words_with_each_letter.keys(), words_with_each_letter.values())\n",
        "plt.xlabel('Alphabet')\n",
        "plt.ylabel('Number of Words')\n",
        "plt.title('Number of Words Starting with Each Letter')\n",
        "plt.show()"
      ],
      "metadata": {
        "colab": {
          "base_uri": "https://localhost:8080/",
          "height": 472
        },
        "id": "FeyXAVTad7F7",
        "outputId": "2c5ad3e5-33f4-4c90-a3fe-ebacd49c3427"
      },
      "execution_count": 11,
      "outputs": [
        {
          "output_type": "display_data",
          "data": {
            "text/plain": [
              "<Figure size 640x480 with 1 Axes>"
            ],
            "image/png": "[encoded data removed]"
          },
          "metadata": {}
        }
      ]
    },
    {
      "cell_type": "markdown",
      "source": [
        "8. The 6 longest words in the wordlist are:\n",
        "'antidisestablishmentarianism',\n",
        " 'formaldehydesulphoxylate',\n",
        " 'thyroparathyroidectomize',\n",
        " 'scientificophilosophical',\n",
        " 'tetraiodophenolphthalein',\n",
        " 'pathologicopsychological'"
      ],
      "metadata": {
        "id": "UtmPwh-ZeJ4j"
      }
    },
    {
      "cell_type": "code",
      "source": [
        "longest_words = sorted(wordlist, key=len, reverse=True)[:6]\n",
        "longest_words"
      ],
      "metadata": {
        "colab": {
          "base_uri": "https://localhost:8080/"
        },
        "id": "TZw-sPpKeQ4V",
        "outputId": "aabbf61f-cb7a-4fa7-a2c6-e3a62fd55280"
      },
      "execution_count": 12,
      "outputs": [
        {
          "output_type": "execute_result",
          "data": {
            "text/plain": [
              "['antidisestablishmentarianism',\n",
              " 'thyroparathyroidectomize',\n",
              " 'tetraiodophenolphthalein',\n",
              " 'pathologicopsychological',\n",
              " 'formaldehydesulphoxylate',\n",
              " 'scientificophilosophical']"
            ]
          },
          "metadata": {},
          "execution_count": 12
        }
      ]
    },
    {
      "cell_type": "markdown",
      "source": [
        "9. The histogram is below. The most common length of a word in the wordlist is 9."
      ],
      "metadata": {
        "id": "9WLRViOyeiqn"
      }
    },
    {
      "cell_type": "code",
      "source": [
        "word_lengths = [len(word) for word in wordlist]\n",
        "plt.hist(word_lengths, bins=max(word_lengths))\n",
        "plt.xlabel('Word Length')\n",
        "plt.ylabel('Frequency')\n",
        "plt.title('Number of Words of Each Length')\n",
        "plt.show()"
      ],
      "metadata": {
        "colab": {
          "base_uri": "https://localhost:8080/",
          "height": 472
        },
        "id": "BwgysBr3eoWA",
        "outputId": "06249d17-5b8e-43e5-ff5a-d54ea267bd3b"
      },
      "execution_count": 13,
      "outputs": [
        {
          "output_type": "display_data",
          "data": {
            "text/plain": [
              "<Figure size 640x480 with 1 Axes>"
            ],
            "image/png": "[encoded data removed]"
          },
          "metadata": {}
        }
      ]
    },
    {
      "cell_type": "code",
      "source": [
        "most_common_length = max(set(word_lengths), key=word_lengths.count)\n",
        "most_common_length"
      ],
      "metadata": {
        "colab": {
          "base_uri": "https://localhost:8080/"
        },
        "id": "hx59N2UHe8AI",
        "outputId": "70261ea0-397a-4b7c-c267-65eef493f33b"
      },
      "execution_count": 14,
      "outputs": [
        {
          "output_type": "execute_result",
          "data": {
            "text/plain": [
              "9"
            ]
          },
          "metadata": {},
          "execution_count": 14
        }
      ]
    },
    {
      "cell_type": "markdown",
      "source": [
        "11. There are 11347 words that have both v and a and there are 4822 words that have both w and l. You have to loop through the word list once as the computer looks at each word and checks if it fits both requirements. It says that it takes around 0 seconds to run, which means it is only a few milliseconds."
      ],
      "metadata": {
        "id": "-O9H-BBLVHD_"
      }
    },
    {
      "cell_type": "code",
      "source": [
        "va_words = 0\n",
        "wl_words = 0\n",
        "\n",
        "for word in wordlist:\n",
        "    if 'v' in word and 'a' in word:\n",
        "        va_words += 1\n",
        "\n",
        "    if 'w' in word and 'l' in word:\n",
        "         wl_words += 1\n",
        "\n",
        "print(\"Number of words containing 'v' and 'a':\", va_words)\n",
        "print(\"Number of words containing 'w' and 'l':\", wl_words)"
      ],
      "metadata": {
        "id": "0PRsIA63UXs_",
        "outputId": "02c8e319-c7d3-4c35-fd0a-5f82515a5ceb",
        "colab": {
          "base_uri": "https://localhost:8080/"
        }
      },
      "execution_count": 18,
      "outputs": [
        {
          "output_type": "stream",
          "name": "stdout",
          "text": [
            "Number of words containing 'v' and 'a': 11347\n",
            "Number of words containing 'w' and 'l': 4822\n"
          ]
        }
      ]
    },
    {
      "cell_type": "markdown",
      "source": [
        "Bonus 1. I am not sure why there is a \"-\" in the place of a letter, but I believe it is because 1 word contains a dash so this counts as a letter."
      ],
      "metadata": {
        "id": "AFBeO-AjWv4w"
      }
    },
    {
      "cell_type": "code",
      "source": [
        "from collections import Counter\n",
        "pair_counter = Counter()\n",
        "\n",
        "for word in wordlist:\n",
        "    pairs = [(word[i], word[j]) for i in range(len(word)) for j in range(i + 1, len(word))]\n",
        "\n",
        "    pair_counter.update(pairs)\n",
        "\n",
        "most_common_pair, most_common_count = pair_counter.most_common(1)[0]\n",
        "print(\"Pair of letters that appears the most:\", most_common_pair)\n",
        "print(\"Number of words containing the most common pair:\", most_common_count)\n",
        "\n",
        "fewest_common_pair, fewest_common_count = pair_counter.most_common()[-1]\n",
        "print(\"Pair of letters that appears the fewest:\", fewest_common_pair)\n",
        "print(\"Number of words containing the fewest common pair:\", fewest_common_count)"
      ],
      "metadata": {
        "id": "rPrvDFGlWvQk",
        "outputId": "332fd52c-cb67-4660-f2a5-51a07398c137",
        "colab": {
          "base_uri": "https://localhost:8080/"
        }
      },
      "execution_count": 25,
      "outputs": [
        {
          "output_type": "stream",
          "name": "stdout",
          "text": [
            "Pair of letters that appears the most: ('r', 'e')\n",
            "Number of words containing the most common pair: 97224\n",
            "Pair of letters that appears the fewest: ('-', 'o')\n",
            "Number of words containing the fewest common pair: 1\n"
          ]
        }
      ]
    }
  ]
}