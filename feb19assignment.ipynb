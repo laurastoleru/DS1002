{
  "nbformat": 4,
  "nbformat_minor": 0,
  "metadata": {
    "colab": {
      "provenance": [],
      "authorship_tag": "ABX9TyMeyMZwP7bLPIXZKgpdw1IJ",
      "include_colab_link": true
    },
    "kernelspec": {
      "name": "python3",
      "display_name": "Python 3"
    },
    "language_info": {
      "name": "python"
    }
  },
  "cells": [
    {
      "cell_type": "markdown",
      "metadata": {
        "id": "view-in-github",
        "colab_type": "text"
      },
      "source": [
        "<a href=\"https://colab.research.google.com/github/laurastoleru/DS1002/blob/main/feb19assignment.ipynb\" target=\"_parent\"><img src=\"https://colab.research.google.com/assets/colab-badge.svg\" alt=\"Open In Colab\"/></a>"
      ]
    },
    {
      "cell_type": "code",
      "source": [
        "from PIL import Image\n",
        "import numpy as np\n",
        "import requests\n",
        "from io import BytesIO\n",
        "\n",
        "def red_filter(photo):\n",
        "    red_only = photo.copy()\n",
        "    red_only[:, :, 1:] = 0  # Set G and B channels to zero\n",
        "    return red_only\n",
        "\n",
        "def green_filter(photo):\n",
        "    green_only = photo.copy()\n",
        "    green_only[:, :, (0, 2)] = 0  # Set R and B channels to zero\n",
        "    return green_only\n",
        "\n",
        "def blue_filter(photo):\n",
        "    blue_only = photo.copy()\n",
        "    blue_only[:, :, :2] = 0  # Set R and G channels to zero\n",
        "    return blue_only\n",
        "\n",
        "def combine_rg(photo):\n",
        "    rg_only = photo.copy()\n",
        "    rg_only[:, :, 2] = 0  # Set B channel to zero\n",
        "    return rg_only\n",
        "\n",
        "def combine_rb(photo):\n",
        "    rb_only = photo.copy()\n",
        "    rb_only[:, :, 1] = 0  # Set G channel to zero\n",
        "    return rb_only\n",
        "\n",
        "def combine_gb(photo):\n",
        "    gb_only = photo.copy()\n",
        "    gb_only[:, :, 0] = 0  # Set R channel to zero\n",
        "    return gb_only\n",
        "\n",
        "# Prompt the user for the URL of a .jpg file\n",
        "url = input(\"Enter the URL of a .jpg file: \")\n",
        "\n",
        "# Load the image from the URL\n",
        "response = requests.get(url)\n",
        "img = Image.open(BytesIO(response.content))\n",
        "\n",
        "# Convert the image to a numpy array\n",
        "photo = np.array(img)\n",
        "\n",
        "# Create filtered versions of the photo\n",
        "red_filtered = red_filter(photo)\n",
        "green_filtered = green_filter(photo)\n",
        "blue_filtered = blue_filter(photo)\n",
        "rg_combined = combine_rg(photo)\n",
        "rb_combined = combine_rb(photo)\n",
        "gb_combined = combine_gb(photo)\n",
        "\n",
        "# Convert numpy arrays back to images\n",
        "red_img = Image.fromarray(red_filtered)\n",
        "green_img = Image.fromarray(green_filtered)\n",
        "blue_img = Image.fromarray(blue_filtered)\n",
        "rg_img = Image.fromarray(rg_combined)\n",
        "rb_img = Image.fromarray(rb_combined)\n",
        "gb_img = Image.fromarray(gb_combined)\n",
        "\n",
        "# Display the original and filtered images\n",
        "img.show()\n",
        "red_img.show()\n",
        "green_img.show()\n",
        "blue_img.show()\n",
        "rg_img.show()\n",
        "rb_img.show()\n",
        "gb_img.show()"
      ],
      "metadata": {
        "colab": {
          "base_uri": "https://localhost:8080/"
        },
        "id": "vN66Gx2uDfQC",
        "outputId": "86263cfe-af44-468d-8ab2-f93c23dcffaf"
      },
      "execution_count": 3,
      "outputs": [
        {
          "name": "stdout",
          "output_type": "stream",
          "text": [
            "Enter the URL of a .jpg file: https://s3.amazonaws.com/eit-planttoolbox-prod/media/images/Bellis_Perennis--Morgaine--CC_BY_2.0.jpg\n"
          ]
        }
      ]
    },
    {
      "cell_type": "markdown",
      "source": [
        "# Check if the original image is identical to the combined filtered images\n",
        "is_identical = np.array_equal(photo, red_filtered + green_filtered + blue_filtered)\n",
        "print(\"Original image is identical to the combined filtered images:\", is_identical)"
      ],
      "metadata": {
        "id": "7aIAOIuTEavi"
      }
    }
  ]
}