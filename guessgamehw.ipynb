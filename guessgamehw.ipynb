{
  "nbformat": 4,
  "nbformat_minor": 0,
  "metadata": {
    "colab": {
      "provenance": [],
      "authorship_tag": "ABX9TyO4NliZUk1vg4un+vf+3iao",
      "include_colab_link": true
    },
    "kernelspec": {
      "name": "python3",
      "display_name": "Python 3"
    },
    "language_info": {
      "name": "python"
    }
  },
  "cells": [
    {
      "cell_type": "markdown",
      "metadata": {
        "id": "view-in-github",
        "colab_type": "text"
      },
      "source": [
        "<a href=\"https://colab.research.google.com/github/laurastoleru/DS1002/blob/main/guessgamehw.ipynb\" target=\"_parent\"><img src=\"https://colab.research.google.com/assets/colab-badge.svg\" alt=\"Open In Colab\"/></a>"
      ]
    },
    {
      "cell_type": "code",
      "execution_count": 1,
      "metadata": {
        "id": "c1HGEoOdZ5pU"
      },
      "outputs": [],
      "source": [
        "import numpy as np"
      ]
    },
    {
      "cell_type": "code",
      "source": [
        "print(\"I am going to select an integer from 0 to 100.\")\n",
        "data = np.random.randint(0, 100)\n",
        "number_of_guesses = 0\n",
        "while True:\n",
        "  user_input = (input(\"Guess what integer I selected from 0 to 100.\"))\n",
        "  if user_input.isdigit():\n",
        "    user_input = int(user_input)\n",
        "    number_of_guesses += 1\n",
        "  else:\n",
        "      print (\"Invalid input. Select a number that is an integer from 0 to 100.\")\n",
        "      continue\n",
        "  if user_input == data:\n",
        "    print (f\"You got it! It took you {number_of_guesses} guesses!\")\n",
        "    break\n",
        "  elif user_input < data:\n",
        "    print (\"Too low\")\n",
        "  else:\n",
        "      print (\"Too high\")"
      ],
      "metadata": {
        "colab": {
          "base_uri": "https://localhost:8080/"
        },
        "id": "xW4-mXNjaMZb",
        "outputId": "7b993f52-ae03-4581-9c65-77494f3fb30f"
      },
      "execution_count": null,
      "outputs": [
        {
          "output_type": "stream",
          "name": "stdout",
          "text": [
            "I am going to select an integer from 0 to 100.\n"
          ]
        }
      ]
    },
    {
      "cell_type": "code",
      "source": [],
      "metadata": {
        "id": "jr_nIn7pcDzT"
      },
      "execution_count": null,
      "outputs": []
    }
  ]
}